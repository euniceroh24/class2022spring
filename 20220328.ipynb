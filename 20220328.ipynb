{
  "nbformat": 4,
  "nbformat_minor": 0,
  "metadata": {
    "colab": {
      "name": "20220328.ipynb",
      "provenance": [],
      "authorship_tag": "ABX9TyPlACA2hAUkBTZAT1J6iPsp",
      "include_colab_link": true
    },
    "kernelspec": {
      "name": "python3",
      "display_name": "Python 3"
    },
    "language_info": {
      "name": "python"
    }
  },
  "cells": [
    {
      "cell_type": "markdown",
      "metadata": {
        "id": "view-in-github",
        "colab_type": "text"
      },
      "source": [
        "<a href=\"https://colab.research.google.com/github/euniceroh24/class2022spring/blob/main/20220328.ipynb\" target=\"_parent\"><img src=\"https://colab.research.google.com/assets/colab-badge.svg\" alt=\"Open In Colab\"/></a>"
      ]
    },
    {
      "cell_type": "code",
      "execution_count": null,
      "metadata": {
        "id": "n_xDF_Rh-Z_S"
      },
      "outputs": [],
      "source": [
        "!pip install gradio\n",
        "import gradio as gr\n",
        "import requests\n",
        "import pandas as pd"
      ]
    },
    {
      "cell_type": "code",
      "source": [
        "URL=('http://apis.data.go.kr/1741000/CalciumChlorideSupply2/getCalciumChlorideSupply1List?ServiceKey=l%2BfMu5s6gJfHz46GgcLx4Nqt5IfWfY1YnN%2FS%2BLNbRc9komBiRHjZiSrU%2FeLw7m9o8HimEZSAezAPKCklxRSI2Q%3D%3D&type=json&pageNo=1&numOfRows=10')"
      ],
      "metadata": {
        "id": "POcY-q9N-aeD"
      },
      "execution_count": 2,
      "outputs": []
    },
    {
      "cell_type": "code",
      "source": [
        "response=requests.get(URL)\n",
        "response"
      ],
      "metadata": {
        "colab": {
          "base_uri": "https://localhost:8080/"
        },
        "id": "wMyVIeca-umw",
        "outputId": "30ecf69c-a5df-406f-eb16-baa4f56acd65"
      },
      "execution_count": 3,
      "outputs": [
        {
          "output_type": "execute_result",
          "data": {
            "text/plain": [
              "<Response [200]>"
            ]
          },
          "metadata": {},
          "execution_count": 3
        }
      ]
    },
    {
      "cell_type": "code",
      "source": [
        "r=response.json()\n",
        "r"
      ],
      "metadata": {
        "id": "BPeY3paWO030"
      },
      "execution_count": null,
      "outputs": []
    },
    {
      "cell_type": "code",
      "source": [
        "items=r['CalciumChlorideSupply'][1]['row']\n",
        "#</RESULT></head><row>"
      ],
      "metadata": {
        "id": "gMxsVZx9Ap_b"
      },
      "execution_count": 34,
      "outputs": []
    },
    {
      "cell_type": "code",
      "source": [
        "items=r['CalciumChlorideSupply'][1]['row']\n",
        "\n",
        "rep_org_nm = [item['rep_org_nm'] for item in items]\n",
        "fll_org_nm = [item['fll_org_nm'] for item in items]\n",
        "resrce_korean_nm = [item['resrce_korean_nm'] for item in items]\n",
        "hold_qy_subsum = [item['hold_qy_subsum'] for item in items]\n",
        "\n",
        "rep_org_nm = pd.Series(rep_org_nm)\n",
        "fll_org_nm = pd.Series(fll_org_nm)\n",
        "resrce_korean_nm = pd.Series(resrce_korean_nm)\n",
        "hold_qy_subsum = pd.Series(hold_qy_subsum)\n",
        "\n",
        "df = pd.DataFrame({'rep_org_nm': rep_org_nm, 'fll_org_nm': fll_org_nm, 'resrce_korean_nm': resrce_korean_nm, 'hold_qy_subsum': hold_qy_subsum})"
      ],
      "metadata": {
        "id": "K9wIlzyIN6aC"
      },
      "execution_count": 36,
      "outputs": []
    },
    {
      "cell_type": "code",
      "source": [
        "def test(rep_org_nm):\n",
        "  URL = ('http://apis.data.go.kr/1741000/CalciumChlorideSupply2/getCalciumChlorideSupply1List?ServiceKey=l%2BfMu5s6gJfHz46GgcLx4Nqt5IfWfY1YnN%2FS%2BLNbRc9komBiRHjZiSrU%2FeLw7m9o8HimEZSAezAPKCklxRSI2Q%3D%3D&type=json&pageNo=1&numOfRows=10')\n",
        "\n",
        "response = requests.get(URL)\n",
        "r=response.json()\n",
        "items=r['CalciumChlorideSupply'][1]['row']\n",
        "\n",
        "rep_org_nm = [item['rep_org_nm'] for item in items]\n",
        "fll_org_nm = [item['fll_org_nm'] for item in items]\n",
        "resrce_korean_nm = [item['resrce_korean_nm'] for item in items]\n",
        "hold_qy_subsum = [item['hold_qy_subsum'] for item in items]\n",
        "\n",
        "rep_org_nm = pd.Series(rep_org_nm)\n",
        "fll_org_nm = pd.Series(fll_org_nm)\n",
        "resrce_korean_nm = pd.Series(resrce_korean_nm)\n",
        "hold_qy_subsum = pd.Series(hold_qy_subsum)\n",
        "\n",
        "df = pd.DataFrame({'rep_org_nm': rep_org_nm, 'fll_org_nm': fll_org_nm, 'resrce_korean_nm': resrce_korean_nm, 'hold_qy_subsum': hold_qy_subsum})"
      ],
      "metadata": {
        "id": "C8B7C49pST0l"
      },
      "execution_count": 39,
      "outputs": []
    },
    {
      "cell_type": "code",
      "source": [
        "df"
      ],
      "metadata": {
        "id": "L9io_T-mTFRO"
      },
      "execution_count": null,
      "outputs": []
    },
    {
      "cell_type": "code",
      "source": [
        "iface = gr.Interface(test, gr.inputs.Dropdown(['서울', '부산', '대구', '인천', '광주', '대전', '울산', '경기', '강원', '충북', '충남', '전북', '전남', '경북', '경남', '제주', '세종']), outputs=['dataframe'])\n",
        "iface.launch(debug=True)"
      ],
      "metadata": {
        "id": "5dPdF01ATQ4b"
      },
      "execution_count": null,
      "outputs": []
    }
  ]
}