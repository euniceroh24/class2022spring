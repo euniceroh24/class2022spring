{
  "nbformat": 4,
  "nbformat_minor": 0,
  "metadata": {
    "kernelspec": {
      "display_name": "Python 3",
      "language": "python",
      "name": "python3"
    },
    "language_info": {
      "codemirror_mode": {
        "name": "ipython",
        "version": 3
      },
      "file_extension": ".py",
      "mimetype": "text/x-python",
      "name": "python",
      "nbconvert_exporter": "python",
      "pygments_lexer": "ipython3",
      "version": "3.7.1"
    },
    "colab": {
      "name": "syntax.ipynb",
      "provenance": [],
      "include_colab_link": true
    }
  },
  "cells": [
    {
      "cell_type": "markdown",
      "metadata": {
        "id": "view-in-github",
        "colab_type": "text"
      },
      "source": [
        "<a href=\"https://colab.research.google.com/github/euniceroh24/class2022spring/blob/main/syntax0316.ipynb\" target=\"_parent\"><img src=\"https://colab.research.google.com/assets/colab-badge.svg\" alt=\"Open In Colab\"/></a>"
      ]
    },
    {
      "cell_type": "code",
      "metadata": {
        "id": "Fu2mzgrqSLAU"
      },
      "source": [
        "a = [1, 2, 3, 4]\n",
        "for i in a:\n",
        "    print(i)"
      ],
      "execution_count": null,
      "outputs": []
    },
    {
      "cell_type": "markdown",
      "source": [
        "### 반복문 for\n",
        "for의 뜻 <br/>\n",
        "a에 있는 것들을 **처음부터 하나하나씩** 받아서 i에 넣고 실행시킨다 <br/>\n",
        "indent: print라는 명령이 for에 종속되어있음을 나타내기 위함 <br/>\n",
        "만약 indent가 없다면 print명령은 for과 독립적으로 실행된다"
      ],
      "metadata": {
        "id": "E9kJdIadE4MZ"
      }
    },
    {
      "cell_type": "code",
      "metadata": {
        "id": "XSJxLJVCSLAW",
        "outputId": "c23eb9ea-0033-4bcb-eae8-40f9442d9801",
        "colab": {
          "base_uri": "https://localhost:8080/"
        }
      },
      "source": [
        "a = [1, 2, 3, 4]\n",
        "for i in range(len(a)): #range(4)와 같다\n",
        "    print(a[i])\n",
        "\n",
        "print(type(a))\n",
        "print(len(a))"
      ],
      "execution_count": 15,
      "outputs": [
        {
          "output_type": "stream",
          "name": "stdout",
          "text": [
            "1\n",
            "2\n",
            "3\n",
            "4\n",
            "<class 'list'>\n",
            "4\n"
          ]
        }
      ]
    },
    {
      "cell_type": "markdown",
      "source": [
        "for함수를 쓸 때 range함수를 같이 쓸 수도 있는데<br/>\n",
        "range를 쓴 것은 index를 활용한 방법이다"
      ],
      "metadata": {
        "id": "fd3pnZfvGICn"
      }
    },
    {
      "cell_type": "code",
      "source": [
        "a = [1,2,3,4]\n",
        "for i in range(1,3):\n",
        "    print(a[i])\n",
        "\n",
        "a = [1,2,3,4]\n",
        "for i in range(3):\n",
        "    print(a[i])  \n",
        "\n",
        "a = [1,2,3,4]\n",
        "for i in range(1):\n",
        "    print(a[i])"
      ],
      "metadata": {
        "id": "1YntZJd-H_nI"
      },
      "execution_count": null,
      "outputs": []
    },
    {
      "cell_type": "markdown",
      "source": [
        "range함수의 인덱싱\n",
        "괄호 안에 숫자 n 하나만 넣으면 \n",
        "i<숫자 n, <br/>\n",
        "괄호 안에 (n,m)과 같이 범위를 설정할 수도 있다 이때는 n<=i<m으로 이해할 것"
      ],
      "metadata": {
        "id": "JJiAv6c_IXaJ"
      }
    },
    {
      "cell_type": "code",
      "metadata": {
        "id": "VTfxVRdgSLAW",
        "outputId": "5b3c1205-8999-43a5-c650-147325a41d31",
        "colab": {
          "base_uri": "https://localhost:8080/"
        }
      },
      "source": [
        "a = ['red', 'green', 'blue', 'purple']\n",
        "for i in a:\n",
        "    print(i)\n",
        "\n",
        "print(type(a))"
      ],
      "execution_count": 13,
      "outputs": [
        {
          "output_type": "stream",
          "name": "stdout",
          "text": [
            "red\n",
            "green\n",
            "blue\n",
            "purple\n",
            "<class 'list'>\n"
          ]
        }
      ]
    },
    {
      "cell_type": "markdown",
      "source": [
        "글자도 for 반복문 안에 넣을 수도 있다"
      ],
      "metadata": {
        "id": "p7vx1cjvJ5sw"
      }
    },
    {
      "cell_type": "code",
      "metadata": {
        "id": "Vc-7pW85SLAW"
      },
      "source": [
        "a = ['red', 'green', 'blue', 'purple']\n",
        "for i in range(len(a)):\n",
        "    print(a[i])\n",
        "\n",
        "print(i)\n",
        "print(a[2])"
      ],
      "execution_count": null,
      "outputs": []
    },
    {
      "cell_type": "markdown",
      "source": [
        "위와 달리 print(i)가 아니라 print(a[i])가 되는 이유는 <br/>\n",
        "위 함수에서 i에 들어가는 게 list의 요솟값이 아니라 숫자이기 때문이다 <br/>\n",
        "그렇기 때문에 요솟값을 출력하려면 a[i]형태로 불러와야한다. "
      ],
      "metadata": {
        "id": "lJcXWmkGKK-h"
      }
    },
    {
      "cell_type": "code",
      "metadata": {
        "id": "dD-ephD3SLAX"
      },
      "source": [
        "a = 0\n",
        "if a == 0:\n",
        "    print(a)\n",
        "else:\n",
        "    print(a+1)"
      ],
      "execution_count": null,
      "outputs": []
    },
    {
      "cell_type": "markdown",
      "source": [
        "= : 변수에 대입하는 기호 <br/>\n",
        "== : 우리가 생각하는 equal 기호 <br/>\n",
        "!= : ~가 아니라면\n",
        "여기서도 for문처럼 콜론과 인덴트가 중요하다"
      ],
      "metadata": {
        "id": "2kMpR-TnMpsY"
      }
    },
    {
      "cell_type": "code",
      "metadata": {
        "id": "M0AZaDMvSLAY",
        "outputId": "ad420796-73e6-4bcc-dca2-2d6f235f5a80",
        "colab": {
          "base_uri": "https://localhost:8080/"
        }
      },
      "source": [
        "for i in range(1, 3):\n",
        "    for j in range(3, 5):\n",
        "        print(i*j)"
      ],
      "execution_count": 21,
      "outputs": [
        {
          "output_type": "stream",
          "name": "stdout",
          "text": [
            "3\n",
            "4\n",
            "6\n",
            "8\n"
          ]
        }
      ]
    },
    {
      "cell_type": "markdown",
      "source": [
        "**중요** 돌려보지 않고도 예측가능해야함 <br/>\n",
        "for i in range(1,3)에서 1,2가 i에 대입됨<br/>\n",
        "for j in range(3,5)에서 3,4가 j에 대입됨\n",
        "\n",
        "실행순서 1 * 3, 1 * 4, 2 * 3, 2 * 4\n",
        "\n",
        "\n",
        " "
      ],
      "metadata": {
        "id": "lKQNzDEDNNiV"
      }
    },
    {
      "cell_type": "code",
      "metadata": {
        "id": "ZPpZmVIHSLAY",
        "outputId": "fbb3d941-d0a4-4272-f82b-eca30a2072e4",
        "colab": {
          "base_uri": "https://localhost:8080/"
        }
      },
      "source": [
        "for i in range(1, 3):\n",
        "    for j in range(3, 5):\n",
        "        if j >=4:\n",
        "            print(i*j)"
      ],
      "execution_count": 22,
      "outputs": [
        {
          "output_type": "stream",
          "name": "stdout",
          "text": [
            "4\n",
            "8\n"
          ]
        }
      ]
    },
    {
      "cell_type": "markdown",
      "source": [
        "실행 순서 \n",
        "1* 4\n",
        "2* 4\n"
      ],
      "metadata": {
        "id": "Hz8JgUBDUAYD"
      }
    },
    {
      "cell_type": "code",
      "metadata": {
        "id": "JQXk5vi0SLAY",
        "outputId": "7b38de89-5c62-4e06-a9fb-09992aabfae5",
        "colab": {
          "base_uri": "https://localhost:8080/",
          "height": 136
        }
      },
      "source": [
        "a = [1, 2, 3, 4]\n",
        "b = [i for i in a if i >=2]\n",
        "b\n",
        "\n",
        "c = [i if i>=2 for i in a]\n",
        "c"
      ],
      "execution_count": 25,
      "outputs": [
        {
          "output_type": "error",
          "ename": "SyntaxError",
          "evalue": "ignored",
          "traceback": [
            "\u001b[0;36m  File \u001b[0;32m\"<ipython-input-25-7b08b30c4a97>\"\u001b[0;36m, line \u001b[0;32m5\u001b[0m\n\u001b[0;31m    c = [i if i>=2 for i in a]\u001b[0m\n\u001b[0m                     ^\u001b[0m\n\u001b[0;31mSyntaxError\u001b[0m\u001b[0;31m:\u001b[0m invalid syntax\n"
          ]
        }
      ]
    },
    {
      "cell_type": "markdown",
      "source": [
        "반복문은 리스트 안에 넣어 리스트를 생성할 수 있다 <br/>\n",
        "if가 for 뒤에 와야 한다"
      ],
      "metadata": {
        "id": "qAEEE0UBUaKo"
      }
    },
    {
      "cell_type": "code",
      "metadata": {
        "id": "MDmBGZ3LSLAZ",
        "outputId": "5173aaa6-a3aa-4fe5-af99-3dbffe3a88f0",
        "colab": {
          "base_uri": "https://localhost:8080/"
        }
      },
      "source": [
        "a = ['red', 'green', 'blue', 'purple']\n",
        "b = [i for i in a if len(i) >=4]\n",
        "b"
      ],
      "execution_count": 26,
      "outputs": [
        {
          "output_type": "execute_result",
          "data": {
            "text/plain": [
              "['green', 'blue', 'purple']"
            ]
          },
          "metadata": {},
          "execution_count": 26
        }
      ]
    },
    {
      "cell_type": "markdown",
      "source": [
        "문자열의 길이가 4이상인 것만 출력하여 리스트를 만들고자 할때"
      ],
      "metadata": {
        "id": "NLiGIV-7U3Pv"
      }
    },
    {
      "cell_type": "code",
      "source": [
        "a = ['red', 'green', 'blue', 'purple']\n",
        "b = [1, 2, 3, 4]\n",
        "c = {a[i]:b[i] for i in range(4)}\n",
        "\n",
        "c\n"
      ],
      "metadata": {
        "id": "Z6JMoDOHu48B",
        "outputId": "ab74b0e9-73dc-44fa-fe78-dad3deb25c0f",
        "colab": {
          "base_uri": "https://localhost:8080/"
        }
      },
      "execution_count": 33,
      "outputs": [
        {
          "output_type": "execute_result",
          "data": {
            "text/plain": [
              "{'blue': 3, 'green': 2, 'purple': 4, 'red': 1}"
            ]
          },
          "metadata": {},
          "execution_count": 33
        }
      ]
    },
    {
      "cell_type": "markdown",
      "source": [
        "이렇게 딕셔너리를 만들 수도 있다\n",
        "중괄호 안에 (key:value)형태를 만들면 a[1]과 b[1]부터 각각 매칭되어 딕셔너리가 만들어진다\n",
        "\n",
        "print(c)면 {'red': 1, 'green': 2, 'blue': 3, 'purple': 4}\n",
        "c면 {'blue': 3, 'green': 2, 'purple': 4, 'red': 1}가 출력되는 것은 왜 그럴까"
      ],
      "metadata": {
        "id": "MAkAIyZhVE89"
      }
    }
  ]
}