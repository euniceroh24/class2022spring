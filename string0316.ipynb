{
  "nbformat": 4,
  "nbformat_minor": 0,
  "metadata": {
    "kernelspec": {
      "display_name": "Python 3",
      "language": "python",
      "name": "python3"
    },
    "language_info": {
      "codemirror_mode": {
        "name": "ipython",
        "version": 3
      },
      "file_extension": ".py",
      "mimetype": "text/x-python",
      "name": "python",
      "nbconvert_exporter": "python",
      "pygments_lexer": "ipython3",
      "version": "3.7.1"
    },
    "colab": {
      "name": "string0316.ipynb",
      "provenance": [],
      "include_colab_link": true
    }
  },
  "cells": [
    {
      "cell_type": "markdown",
      "metadata": {
        "id": "view-in-github",
        "colab_type": "text"
      },
      "source": [
        "<a href=\"https://colab.research.google.com/github/euniceroh24/class2022spring/blob/main/string0316.ipynb\" target=\"_parent\"><img src=\"https://colab.research.google.com/assets/colab-badge.svg\" alt=\"Open In Colab\"/></a>"
      ]
    },
    {
      "cell_type": "code",
      "metadata": {
        "id": "zwpWU02YmAur"
      },
      "source": [
        "s = 'abcdef'\n",
        "print(s[0], s[5], s[-1], s[-6])\n",
        "print(s[1:3], s[1:], s[:3], s[:])"
      ],
      "execution_count": null,
      "outputs": []
    },
    {
      "cell_type": "markdown",
      "source": [
        "**string 문자열 인덱싱** <br/>\n",
        "*string과 list는 매우 비슷. 특히 인덱싱\n",
        "\n",
        "a 0, b 1, c 2, d 3, e 4, f 5 <br/>\n",
        "콜론의 왼쪽은 포함, 오른쪽 포함 x\n"
      ],
      "metadata": {
        "id": "BRk8pPgcY7fz"
      }
    },
    {
      "cell_type": "code",
      "metadata": {
        "id": "mpkdZBeWmAux"
      },
      "source": [
        "n = [100, 200, 300]\n",
        "print(n[0], n[2], n[-1], n[-3])\n",
        "print(n[1:2], n[1:], n[:2], n[:])"
      ],
      "execution_count": null,
      "outputs": []
    },
    {
      "cell_type": "markdown",
      "source": [
        "**리스트 인덱싱** <br/>\n",
        "100 0, 200 1, 300 2\n"
      ],
      "metadata": {
        "id": "nbtvGJUOahU9"
      }
    },
    {
      "cell_type": "code",
      "metadata": {
        "id": "ulnefmnFmAuy",
        "outputId": "013b6af1-433f-4d95-e343-71631a426f84"
      },
      "source": [
        "len(s)"
      ],
      "execution_count": null,
      "outputs": [
        {
          "data": {
            "text/plain": [
              "6"
            ]
          },
          "execution_count": 4,
          "metadata": {},
          "output_type": "execute_result"
        }
      ]
    },
    {
      "cell_type": "markdown",
      "source": [
        "**len함수는 s의 길이를 계산한다** <br/>\n",
        "*n()과 같이 괄호 형태가 있으면 함수이다"
      ],
      "metadata": {
        "id": "uCQ8OvTAZmyO"
      }
    },
    {
      "cell_type": "code",
      "metadata": {
        "id": "a45rgiNMmAuy"
      },
      "source": [
        "s[1]+s[3]+s[4:]*10"
      ],
      "execution_count": null,
      "outputs": []
    },
    {
      "cell_type": "markdown",
      "source": [
        "*문자열도 더하기 기호 사용 가능\n"
      ],
      "metadata": {
        "id": "OOgjLjqKZzjl"
      }
    },
    {
      "cell_type": "code",
      "metadata": {
        "id": "IevwoMpmmAuz"
      },
      "source": [
        "s.upper()"
      ],
      "execution_count": null,
      "outputs": []
    },
    {
      "cell_type": "markdown",
      "source": [
        "s를 대문자로 만드는 함수"
      ],
      "metadata": {
        "id": "cScO0Ylfa43n"
      }
    },
    {
      "cell_type": "code",
      "metadata": {
        "id": "LRU0Yt1amAuz",
        "outputId": "921cd305-f7d9-4a69-a89f-ecddd670f4a3",
        "colab": {
          "base_uri": "https://localhost:8080/",
          "height": 35
        }
      },
      "source": [
        "s = ' this is a house built this year.\\n' \t\n",
        "s"
      ],
      "execution_count": 21,
      "outputs": [
        {
          "output_type": "execute_result",
          "data": {
            "text/plain": [
              "' this is a house built this year.\\n'"
            ],
            "application/vnd.google.colaboratory.intrinsic+json": {
              "type": "string"
            }
          },
          "metadata": {},
          "execution_count": 21
        }
      ]
    },
    {
      "cell_type": "markdown",
      "source": [
        "s가 새로 정의되었다"
      ],
      "metadata": {
        "id": "Ix_w1I44bA3q"
      }
    },
    {
      "cell_type": "code",
      "metadata": {
        "id": "nMHteyDfmAu0",
        "colab": {
          "base_uri": "https://localhost:8080/"
        },
        "outputId": "2c386367-81f5-4d4d-c50c-24e6bf789c49"
      },
      "source": [
        "result = s.find('house') \t    # index of first instance of string t inside s (-1 if not found)\n",
        "result"
      ],
      "execution_count": 5,
      "outputs": [
        {
          "output_type": "execute_result",
          "data": {
            "text/plain": [
              "11"
            ]
          },
          "metadata": {},
          "execution_count": 5
        }
      ]
    },
    {
      "cell_type": "markdown",
      "source": [
        "house가 처음 나오는 게 11번째 자리\n",
        "(공백도 포함된다)\n"
      ],
      "metadata": {
        "id": "OqmOldINbTc5"
      }
    },
    {
      "cell_type": "code",
      "metadata": {
        "id": "gv82JUX7mAu0"
      },
      "source": [
        "result = s.find('this')\t      # index of first instance of string t inside s (-1 if not found)\n",
        "result"
      ],
      "execution_count": null,
      "outputs": []
    },
    {
      "cell_type": "markdown",
      "source": [
        "this가 **처음** 나오는 게 1번째 자리"
      ],
      "metadata": {
        "id": "fbXoRaSVcHyX"
      }
    },
    {
      "cell_type": "code",
      "metadata": {
        "colab": {
          "base_uri": "https://localhost:8080/",
          "height": 35
        },
        "id": "_rfW3-4lhfSS",
        "outputId": "688bf4b0-34db-43ae-d5c4-3e6c96fb47c6"
      },
      "source": [
        "s = s.strip()      \t          # a copy of s without leading or trailing whitespace\n",
        "s"
      ],
      "execution_count": 42,
      "outputs": [
        {
          "output_type": "execute_result",
          "data": {
            "text/plain": [
              "'his is a house built this year.'"
            ],
            "application/vnd.google.colaboratory.intrinsic+json": {
              "type": "string"
            }
          },
          "metadata": {},
          "execution_count": 42
        }
      ]
    },
    {
      "cell_type": "markdown",
      "source": [
        "괄호 안에 든 것을 **바깥부터** 제거하는 strip 함수 <br/>\n",
        "여기서는 ()안에 아무것도 없으므로 문자열 앞뒤로(문자열 바깥부터) **공백**을 제거한다 <br/>"
      ],
      "metadata": {
        "id": "GA5QsZQxcFjA"
      }
    },
    {
      "cell_type": "code",
      "source": [
        "'this is a house built this year'.strip('thar')"
      ],
      "metadata": {
        "colab": {
          "base_uri": "https://localhost:8080/",
          "height": 35
        },
        "id": "3Moi1nwrhwb4",
        "outputId": "1df22205-2c55-4832-99fe-8a252ff672b6"
      },
      "execution_count": 44,
      "outputs": [
        {
          "output_type": "execute_result",
          "data": {
            "text/plain": [
              "'is is a house built this ye'"
            ],
            "application/vnd.google.colaboratory.intrinsic+json": {
              "type": "string"
            }
          },
          "metadata": {},
          "execution_count": 44
        }
      ]
    },
    {
      "cell_type": "markdown",
      "source": [
        "껍질 벗기듯이 문자도 벗겨낼 수 있다\n",
        "(안에 있는 것은 안 됨)"
      ],
      "metadata": {
        "id": "ttTvlceZiilZ"
      }
    },
    {
      "cell_type": "code",
      "metadata": {
        "id": "l37g5DqQmAu2",
        "colab": {
          "base_uri": "https://localhost:8080/"
        },
        "outputId": "37a2ad55-c390-4fbc-844c-a94560b6ace0"
      },
      "source": [
        "tokens = s.split(' ')\t        # split s into a list wherever a t is found (whitespace by default)\n",
        "tokens\n"
      ],
      "execution_count": 13,
      "outputs": [
        {
          "output_type": "execute_result",
          "data": {
            "text/plain": [
              "['his', 'is', 'a', 'house', 'built', 'this', 'year.']"
            ]
          },
          "metadata": {},
          "execution_count": 13
        }
      ]
    },
    {
      "cell_type": "markdown",
      "source": [
        "문자열을 리스트로 쪼개는(?) split 함수 <br/>\n",
        "괄호 안에 빈칸이 있으면 빈칸을 경계로 쪼개서 리스트로 만든다 <br/>\n",
        "이때 빈칸은 **괄호 안에 포함된 값이므로** 리스트의 요솟값에 포함되지 않는다\n"
      ],
      "metadata": {
        "id": "wauPb01gcfQs"
      }
    },
    {
      "cell_type": "code",
      "metadata": {
        "id": "64sewKE8mAu2",
        "colab": {
          "base_uri": "https://localhost:8080/",
          "height": 35
        },
        "outputId": "b7676648-3ec1-4239-c858-246ef280334d"
      },
      "source": [
        "s = ' '.join(tokens)\t        # combine the words of the text into a string using s as the glue\n",
        "s"
      ],
      "execution_count": 46,
      "outputs": [
        {
          "output_type": "execute_result",
          "data": {
            "text/plain": [
              "' this is a house built this year.\\n'"
            ],
            "application/vnd.google.colaboratory.intrinsic+json": {
              "type": "string"
            }
          },
          "metadata": {},
          "execution_count": 46
        }
      ]
    },
    {
      "cell_type": "markdown",
      "source": [
        "빈칸을 이용해 리스트를 문자열로 붙이는 join 함수 <br/>\n",
        "역연산처럼 완전히 원상복귀되었다"
      ],
      "metadata": {
        "id": "n4UV3BcNdDCd"
      }
    },
    {
      "cell_type": "code",
      "metadata": {
        "id": "jfiqbBiImAu3",
        "colab": {
          "base_uri": "https://localhost:8080/",
          "height": 35
        },
        "outputId": "6768d6b2-8f00-4c20-ea6d-10b705a195cb"
      },
      "source": [
        "s = s.replace('this', 'that') # replace instances of t with u inside s\n",
        "s"
      ],
      "execution_count": 47,
      "outputs": [
        {
          "output_type": "execute_result",
          "data": {
            "text/plain": [
              "' that is a house built that year.\\n'"
            ],
            "application/vnd.google.colaboratory.intrinsic+json": {
              "type": "string"
            }
          },
          "metadata": {},
          "execution_count": 47
        }
      ]
    },
    {
      "cell_type": "markdown",
      "source": [
        "this을 that으로 바꿔주는 replace 함수 <br/>\n",
        "string 속의 모든 this가 that으로 바뀌었다"
      ],
      "metadata": {
        "id": "AczVpXTpeC8X"
      }
    }
  ]
}