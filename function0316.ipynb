{
  "nbformat": 4,
  "nbformat_minor": 0,
  "metadata": {
    "colab": {
      "name": "function.ipynb",
      "provenance": [],
      "include_colab_link": true
    },
    "kernelspec": {
      "name": "python3",
      "display_name": "Python 3"
    }
  },
  "cells": [
    {
      "cell_type": "markdown",
      "metadata": {
        "id": "view-in-github",
        "colab_type": "text"
      },
      "source": [
        "<a href=\"https://colab.research.google.com/github/euniceroh24/class2022spring/blob/main/function0316.ipynb\" target=\"_parent\"><img src=\"https://colab.research.google.com/assets/colab-badge.svg\" alt=\"Open In Colab\"/></a>"
      ]
    },
    {
      "cell_type": "code",
      "metadata": {
        "id": "hpc_mhgAye2S"
      },
      "source": [
        "def add(a,b):\n",
        "  return a+b\n",
        "\n",
        "def subtract(a,b):\n",
        "  return a-b\n",
        "\n",
        "def multiply(a,b):\n",
        "  return a*b\n",
        "\n",
        "def divide(a,b):\n",
        "  return a/b"
      ],
      "execution_count": null,
      "outputs": []
    },
    {
      "cell_type": "markdown",
      "source": [
        "함수 만드는 법<br/>\n",
        "먼저 함수를 **def를 써서 정의** <br/>\n",
        "입력 변수는 **함수명 뒤 괄호**에 대입 def 함수명(입력변수1, 입력변수2) <br/>\n",
        "출력 변수는 **return** 뒤에 나옴 return 출력변수명1, 출력변수명2\n",
        "\n",
        "함수 뒤에 콜론을 쓰는 것이 중요하다\n"
      ],
      "metadata": {
        "id": "e1cNt10b-W9g"
      }
    },
    {
      "cell_type": "code",
      "source": [
        "def say():\n",
        "  return 3\n",
        "\n",
        "print(say())"
      ],
      "metadata": {
        "id": "xo8dmRK1CMcF",
        "outputId": "3303283d-afcd-45fd-fac6-87dcd5b6113c",
        "colab": {
          "base_uri": "https://localhost:8080/"
        }
      },
      "execution_count": 2,
      "outputs": [
        {
          "output_type": "stream",
          "name": "stdout",
          "text": [
            "3\n"
          ]
        }
      ]
    },
    {
      "cell_type": "markdown",
      "source": [
        "예를 들어 이렇게 괄호 안이 비어 입력이 없을 수도 있고 <br/>\n",
        "(점프투파이썬 참고했음)"
      ],
      "metadata": {
        "id": "FSGUkbfUCk42"
      }
    },
    {
      "cell_type": "code",
      "source": [
        "def multiply(a,b):\n",
        "  print (\"%d와 %d의 곱은 %d입니다.\" %(a, b, a*b))\n",
        "\n",
        "multiply(5,1)"
      ],
      "metadata": {
        "id": "xwNQJREMCvZL",
        "outputId": "ae403c75-55f7-40ec-fc4f-0edfe9c7eebc",
        "colab": {
          "base_uri": "https://localhost:8080/"
        }
      },
      "execution_count": 8,
      "outputs": [
        {
          "output_type": "stream",
          "name": "stdout",
          "text": [
            "5와 1의 곱은 5입니다.\n"
          ]
        }
      ]
    },
    {
      "cell_type": "markdown",
      "source": [
        "이런 경우가 출력값이 없는 경우이다"
      ],
      "metadata": {
        "id": "F4H3SwBsDniK"
      }
    },
    {
      "cell_type": "code",
      "metadata": {
        "colab": {
          "base_uri": "https://localhost:8080/"
        },
        "id": "8Y4oa05Eykn4",
        "outputId": "7e186590-61dc-49a9-e22f-0bcb617fd3b7"
      },
      "source": [
        "c = add(1,2); print(c)\n",
        "c = subtract(1,2); print(c)\n",
        "c = multiply(1,2); print(c)\n",
        "c = divide(1,2); print(c)"
      ],
      "execution_count": null,
      "outputs": [
        {
          "output_type": "stream",
          "text": [
            "3\n",
            "-1\n",
            "2\n",
            "0.5\n"
          ],
          "name": "stdout"
        }
      ]
    }
  ]
}