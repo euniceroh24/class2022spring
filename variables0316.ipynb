{
  "nbformat": 4,
  "nbformat_minor": 0,
  "metadata": {
    "kernelspec": {
      "display_name": "Python 3",
      "language": "python",
      "name": "python3"
    },
    "language_info": {
      "codemirror_mode": {
        "name": "ipython",
        "version": 3
      },
      "file_extension": ".py",
      "mimetype": "text/x-python",
      "name": "python",
      "nbconvert_exporter": "python",
      "pygments_lexer": "ipython3",
      "version": "3.7.1"
    },
    "colab": {
      "name": "variables0316.ipynb",
      "provenance": [],
      "collapsed_sections": [],
      "include_colab_link": true
    }
  },
  "cells": [
    {
      "cell_type": "markdown",
      "metadata": {
        "id": "view-in-github",
        "colab_type": "text"
      },
      "source": [
        "<a href=\"https://colab.research.google.com/github/euniceroh24/class2022spring/blob/main/variables0316.ipynb\" target=\"_parent\"><img src=\"https://colab.research.google.com/assets/colab-badge.svg\" alt=\"Open In Colab\"/></a>"
      ]
    },
    {
      "cell_type": "markdown",
      "source": [
        "파이썬에서 중요한 네 가지 \n",
        "1. 변수(variables)-number, string, list..\n",
        "2. 문법(syntax)-조건문 if, 반복문 for\n",
        "3. 함수(function)\n",
        "4. 패키지(packages)-numpy,pandas,nltk,matplotlib\n",
        "https://learnpython.com/blog/most-popular-python-packages/\n",
        "\n",
        "자연어의 word=컴퓨터언어의 varible<br/>\n",
        "자연어의 syntax= 컴퓨터언어의 syntax"
      ],
      "metadata": {
        "id": "UZVy-FE1_Kck"
      }
    },
    {
      "cell_type": "code",
      "metadata": {
        "id": "goAyoU7vRheI",
        "outputId": "45ec54f8-aa58-4219-f616-ce569f71c200",
        "colab": {
          "base_uri": "https://localhost:8080/"
        }
      },
      "source": [
        "a = 1; print(type(a))"
      ],
      "execution_count": 1,
      "outputs": [
        {
          "output_type": "stream",
          "name": "stdout",
          "text": [
            "<class 'int'>\n"
          ]
        }
      ]
    },
    {
      "cell_type": "markdown",
      "source": [
        "### 숫자 <br/>\n",
        "1을 변수 a에 대입하기 <br/>\n",
        "변수 a의 타입은 int-**integer 정수형**이다"
      ],
      "metadata": {
        "id": "05QvDgCpCBWN"
      }
    },
    {
      "cell_type": "code",
      "metadata": {
        "id": "txxnoqJuRheJ",
        "outputId": "2ddfdb35-3d0b-44e3-f3bb-57c9fb3b2991",
        "colab": {
          "base_uri": "https://localhost:8080/"
        }
      },
      "source": [
        "a = 1.1; print(type(a))"
      ],
      "execution_count": 2,
      "outputs": [
        {
          "output_type": "stream",
          "name": "stdout",
          "text": [
            "<class 'float'>\n"
          ]
        }
      ]
    },
    {
      "cell_type": "markdown",
      "source": [
        "1.1을 변수 a에 대입하기 <br/>\n",
        "변수 a의 타입은 float-**floating point 실수형**이다"
      ],
      "metadata": {
        "id": "Amqu6atvD_th"
      }
    },
    {
      "cell_type": "code",
      "metadata": {
        "id": "SyP0PB86RheL",
        "outputId": "5c3a76b2-de2e-4539-c0e8-8dda822d6dbb",
        "colab": {
          "base_uri": "https://localhost:8080/"
        }
      },
      "source": [
        "a = '123'; print(type(a)); print(a[1])"
      ],
      "execution_count": 3,
      "outputs": [
        {
          "output_type": "stream",
          "name": "stdout",
          "text": [
            "<class 'str'>\n",
            "2\n"
          ]
        }
      ]
    },
    {
      "cell_type": "markdown",
      "source": [
        "### 문자열 <br/>\n",
        "문자 123을 따옴표를 통해 변수 a에 대입하기 <br/>\n",
        "변수 a의 타입은 **문자열 string**이다 <br/>\n",
        "문자열 인덱싱하면 \n",
        "**0번째는 1, 1번째는 2, 2번째는 3이어서** print(a[1])하면 2가 출력됨 <br/>\n",
        "(따옴표로 둘러싸여 있으니까 숫자여도 문자열)"
      ],
      "metadata": {
        "id": "T8wD2QBbEyx7"
      }
    },
    {
      "cell_type": "code",
      "metadata": {
        "id": "EKYj0dvIHPo0",
        "outputId": "58084cf2-4429-4051-b7d6-4a637c85aeac",
        "colab": {
          "base_uri": "https://localhost:8080/"
        }
      },
      "source": [
        "a = 'hello'; print(type(a)); print(a[1])"
      ],
      "execution_count": 17,
      "outputs": [
        {
          "output_type": "stream",
          "name": "stdout",
          "text": [
            "<class 'str'>\n",
            "e\n"
          ]
        }
      ]
    },
    {
      "cell_type": "markdown",
      "source": [
        "문자 hello를 따옴표를 통해 변수 a에 대입하기 <br/>\n",
        "변수 a의 타입은 **문자열 string**이다 <br/>\n",
        "문자열 인덱싱하면 **0번째 h, 1번째 e, 2번째 l,,,이어서**\n",
        "print(a[1])하면 e가 출력됨"
      ],
      "metadata": {
        "id": "GshRxICXKERc"
      }
    },
    {
      "cell_type": "code",
      "source": [
        "a='abcdef123'\n",
        "a[:3]"
      ],
      "metadata": {
        "colab": {
          "base_uri": "https://localhost:8080/",
          "height": 35
        },
        "id": "cMFKg4FBNOBk",
        "outputId": "c9c44b7d-f7fe-42c5-831b-ac12c9b86392"
      },
      "execution_count": 19,
      "outputs": [
        {
          "output_type": "execute_result",
          "data": {
            "text/plain": [
              "'abc'"
            ],
            "application/vnd.google.colaboratory.intrinsic+json": {
              "type": "string"
            }
          },
          "metadata": {},
          "execution_count": 19
        }
      ]
    },
    {
      "cell_type": "markdown",
      "source": [
        "### 문자열을 슬라이싱하는 방법 <br/>\n",
        "0번째 a, 1번째 b, 2번째 c, 3번째 d,,,이어서 a[:3]하면 a부터 c까지 출력됨 <br>\n",
        "0<=a<3 , 리스트 슬라이싱과 같다"
      ],
      "metadata": {
        "id": "AAHUiVsmNaLG"
      }
    },
    {
      "cell_type": "code",
      "metadata": {
        "id": "Df6PhU-tHXr2",
        "outputId": "1f6fe67e-350f-4a19-96de-835d605ee833",
        "colab": {
          "base_uri": "https://localhost:8080/"
        }
      },
      "source": [
        "a = [1, 2, 3, 4]; print(type(a)); print(a[0])"
      ],
      "execution_count": 7,
      "outputs": [
        {
          "output_type": "stream",
          "name": "stdout",
          "text": [
            "<class 'list'>\n",
            "1\n"
          ]
        }
      ]
    },
    {
      "cell_type": "markdown",
      "source": [
        "### 리스트 <br/>\n",
        "리스트를 대괄호를 통해 변수 a에 대입하기 <br/>\n",
        "변수 a의 타입은 **리스트 list**이다 <br/>\n",
        "리스트 인덱싱하면 **0번째는 1, 1번째는 2, 2번째는 3, 3번째는 4**이어서 print(a[0])하면 1이 출력됨\n",
        "\n",
        "*list와 tuple\n",
        "list와 tuple은 거의 동일하다 <br/>\n",
        "차이점 1) list는 대괄호, tuple은 소괄호를 씀 <br/>\n",
        "차이점 2) list는 요솟값을 바꿀 수 있지만, tuple은 불가능\n",
        "\n",
        "ex) a=[1,2,3]\n",
        "a[1]=0 이렇게 요솟값 바꾸기 list 가능, 튜플 불가능\n"
      ],
      "metadata": {
        "id": "5HXBwhTWLONK"
      }
    },
    {
      "cell_type": "code",
      "source": [
        "print(a[1:3])\n",
        "print(a[1:])\n",
        "print(a[:2])\n",
        "print(a[:])\n",
        "print(a[1:-1])\n"
      ],
      "metadata": {
        "colab": {
          "base_uri": "https://localhost:8080/"
        },
        "id": "3PHzjhvuHwDd",
        "outputId": "4cbcdef5-f7d0-43ae-86d1-081c93c7e43e"
      },
      "execution_count": 15,
      "outputs": [
        {
          "output_type": "stream",
          "name": "stdout",
          "text": [
            "[2, 3]\n",
            "[2, 3, 4]\n",
            "[1, 2]\n",
            "[1, 2, 3, 4]\n",
            "[2, 3]\n"
          ]
        }
      ]
    },
    {
      "cell_type": "markdown",
      "source": [
        "### 리스트를 슬라이싱하는 방법 <br/>\n",
        "1번째 요소부터 부터 3번째 앞까지 출력함 <br/>\n",
        "a=[n:m] : n번째부터 m-1번째 자료형까지 출력 <br/>\n",
        "a=[n:] : n번째부터 끝까지 <br/>\n",
        "a=[:m] : 처음부터 m-1번째까지 <br/>\n",
        "a=[:] : 처음부터 끝까지 <br/>\n",
        "a=[n:-1]: 처음부터 뒤에서 하나빼고"
      ],
      "metadata": {
        "id": "lo9qLlafH5eo"
      }
    },
    {
      "cell_type": "code",
      "metadata": {
        "id": "DfS-gknCRheL",
        "outputId": "0d5e880e-73a6-4902-ffb3-f199b54677b1",
        "colab": {
          "base_uri": "https://localhost:8080/"
        }
      },
      "source": [
        "a = [1,'a', [3, '4']]; print(type(a)); print(a[0]); print(a[1]); print(a[2]); print(a[2][1]);print(type(a[0]))"
      ],
      "execution_count": 16,
      "outputs": [
        {
          "output_type": "stream",
          "name": "stdout",
          "text": [
            "<class 'list'>\n",
            "1\n",
            "a\n",
            "[3, '4']\n",
            "4\n",
            "<class 'int'>\n"
          ]
        }
      ]
    },
    {
      "cell_type": "markdown",
      "source": [
        "###list의 인덱싱\n",
        "\n",
        "a의 0번째 요솟값 = 1 <br/>\n",
        "a의 1번째 요솟값 = a <br/>\n",
        "a의 2번째 요솟값 = [3, '4'] <br/>\n",
        "a의 2번째 요솟값인 리스트 안에 있는 1번째 요솟값 = 4\n",
        "\n",
        "*리스트는 문자열, 숫자, 숫자와 문자열, 리스트 모두를 요솟값으로 가질 수 있다\n",
        "\n",
        " "
      ],
      "metadata": {
        "id": "FwjiFYc6F_Bc"
      }
    },
    {
      "cell_type": "code",
      "metadata": {
        "id": "2sivfloGRheM",
        "outputId": "80e29e1b-e074-40c9-d4d6-3bc17c75e9d6",
        "colab": {
          "base_uri": "https://localhost:8080/"
        }
      },
      "source": [
        "a =\t{'a': \"apple\", \"b\": \"orange\", \"c\": 2014}\n",
        "print(type(a))\n",
        "print(a[\"a\"])\n",
        "print(a['a'])"
      ],
      "execution_count": 22,
      "outputs": [
        {
          "output_type": "stream",
          "name": "stdout",
          "text": [
            "<class 'dict'>\n",
            "apple\n",
            "apple\n"
          ]
        }
      ]
    },
    {
      "cell_type": "markdown",
      "source": [
        "### 딕셔너리 자료형\n",
        "중괄호 사용, 콤마(,)로 이어져있음 <br/>\n",
        "key와 value가 맵핑되어 있다 <br/>\n",
        "순서가 아니라 key를 통해 자료에 접근 가능"
      ],
      "metadata": {
        "id": "OkF1iEPPMfeI"
      }
    },
    {
      "cell_type": "code",
      "source": [
        "a[2]"
      ],
      "metadata": {
        "colab": {
          "base_uri": "https://localhost:8080/"
        },
        "id": "Mgs7MXQGHkJw",
        "outputId": "07e8a06a-1290-4d2a-dc7e-cd10ac4163bc"
      },
      "execution_count": 5,
      "outputs": [
        {
          "output_type": "execute_result",
          "data": {
            "text/plain": [
              "[3, '4']"
            ]
          },
          "metadata": {},
          "execution_count": 5
        }
      ]
    },
    {
      "cell_type": "markdown",
      "source": [
        "cf. 마지막 줄은 print를 누르지 않아도 print가 된다"
      ],
      "metadata": {
        "id": "xA6Q3LGDHmRq"
      }
    }
  ]
}