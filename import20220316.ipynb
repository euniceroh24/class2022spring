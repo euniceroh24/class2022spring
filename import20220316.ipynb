{
  "nbformat": 4,
  "nbformat_minor": 0,
  "metadata": {
    "colab": {
      "name": "import.ipynb",
      "provenance": [],
      "include_colab_link": true
    },
    "kernelspec": {
      "name": "python3",
      "display_name": "Python 3"
    },
    "language_info": {
      "name": "python"
    }
  },
  "cells": [
    {
      "cell_type": "markdown",
      "metadata": {
        "id": "view-in-github",
        "colab_type": "text"
      },
      "source": [
        "<a href=\"https://colab.research.google.com/github/euniceroh24/class2022spring/blob/main/import0316.ipynb\" target=\"_parent\"><img src=\"https://colab.research.google.com/assets/colab-badge.svg\" alt=\"Open In Colab\"/></a>"
      ]
    },
    {
      "cell_type": "markdown",
      "source": [
        "python의 함수들 <br/>\n",
        "built in print함수 같은 것들. 그냥 쓰면 된다 <br/>\n",
        "import 이미 install되어 있어 ram으로 import만 해오면 된다<br/>\n",
        "install - 유명하지 않은 함수의 경우, 먼저 install, 그리고 import해서 써야한다"
      ],
      "metadata": {
        "id": "DhjJV7YRaO42"
      }
    },
    {
      "cell_type": "code",
      "metadata": {
        "id": "JXicrkYOzPRo"
      },
      "source": [
        "import numpy as np\n",
        "n = np.random.randn(100)"
      ],
      "execution_count": 6,
      "outputs": []
    },
    {
      "cell_type": "markdown",
      "source": [
        "n=np.random.randn()\n",
        "**괄호 안에 있는 숫자**만큼 개수로 **정규분포**를 따라 무작위의 숫자를 만든다\n",
        "\n",
        "numpy안에 random이라는 directory가 있고 그 안에 randn이라는 함수가 있다"
      ],
      "metadata": {
        "id": "-pYj2m-xZhoy"
      }
    },
    {
      "cell_type": "code",
      "metadata": {
        "colab": {
          "base_uri": "https://localhost:8080/",
          "height": 356
        },
        "id": "zQJ4LnbA-Hvz",
        "outputId": "04486688-e56f-44b1-ab66-027fbea1c082"
      },
      "source": [
        "import matplotlib.pyplot\n",
        "matplotlib.pyplot.hist(n)"
      ],
      "execution_count": 10,
      "outputs": [
        {
          "output_type": "execute_result",
          "data": {
            "text/plain": [
              "(array([ 1.,  4., 13., 16., 26., 17., 16.,  4.,  2.,  1.]),\n",
              " array([-2.52633993, -1.98442223, -1.44250454, -0.90058684, -0.35866915,\n",
              "         0.18324855,  0.72516624,  1.26708394,  1.80900164,  2.35091933,\n",
              "         2.89283703]),\n",
              " <a list of 10 Patch objects>)"
            ]
          },
          "metadata": {},
          "execution_count": 10
        },
        {
          "output_type": "display_data",
          "data": {
            "text/plain": [
              "<Figure size 432x288 with 1 Axes>"
            ],
            "image/png": "[encoded data removed]"
          },
          "metadata": {
            "needs_background": "light"
          }
        }
      ]
    },
    {
      "cell_type": "markdown",
      "source": [
        "matplotlib은 plotting, visualizing을 하는데 활용되는 패키지 <br/>\n",
        "pyplot이라는 directory안에 histogram을 그려주는 함수이다\n",
        "\n",
        "x축은 범위\n",
        "y축은 frequency"
      ],
      "metadata": {
        "id": "ilQqzjRJb0KJ"
      }
    },
    {
      "cell_type": "code",
      "metadata": {
        "id": "AWU6awi53c07",
        "outputId": "9b49fb47-6bac-4887-8815-e5ed130f6c56",
        "colab": {
          "base_uri": "https://localhost:8080/",
          "height": 350
        }
      },
      "source": [
        "import matplotlib.pyplot as plt\n",
        "plt.hist(n)"
      ],
      "execution_count": null,
      "outputs": [
        {
          "output_type": "execute_result",
          "data": {
            "text/plain": [
              "(array([ 4.,  4.,  4.,  8., 19., 21., 16., 13.,  6.,  5.]),\n",
              " array([-2.54804234, -2.0585933 , -1.56914426, -1.07969522, -0.59024618,\n",
              "        -0.10079714,  0.3886519 ,  0.87810094,  1.36754998,  1.85699902,\n",
              "         2.34644806]),\n",
              " <a list of 10 Patch objects>)"
            ]
          },
          "metadata": {},
          "execution_count": 5
        },
        {
          "output_type": "display_data",
          "data": {
            "image/png": "[encoded data removed]",
            "text/plain": [
              "<Figure size 432x288 with 1 Axes>"
            ]
          },
          "metadata": {
            "needs_background": "light"
          }
        }
      ]
    },
    {
      "cell_type": "markdown",
      "source": [
        "matplotlib.pyplot을 plt로 축약해서 편리하게 사용"
      ],
      "metadata": {
        "id": "yQx9w2cRc79X"
      }
    },
    {
      "cell_type": "markdown",
      "source": [
        "## from import를 쓰면 import as처럼 축약해서 부를 수 있는 효과"
      ],
      "metadata": {
        "id": "v1zA2xRWzpdu"
      }
    },
    {
      "cell_type": "code",
      "metadata": {
        "colab": {
          "base_uri": "https://localhost:8080/",
          "height": 350
        },
        "id": "moIjn3Kv-Hqy",
        "outputId": "4b1e3880-1576-4b63-b4d0-192704221a8d"
      },
      "source": [
        "from matplotlib import pyplot\n",
        "pyplot.hist(n)"
      ],
      "execution_count": null,
      "outputs": [
        {
          "output_type": "execute_result",
          "data": {
            "text/plain": [
              "(array([ 3.,  4.,  9., 11., 26., 19., 16., 10.,  1.,  1.]),\n",
              " array([-2.51307585, -1.99199295, -1.47091005, -0.94982715, -0.42874425,\n",
              "         0.09233865,  0.61342155,  1.13450445,  1.65558734,  2.17667024,\n",
              "         2.69775314]),\n",
              " <a list of 10 Patch objects>)"
            ]
          },
          "metadata": {},
          "execution_count": 11
        },
        {
          "output_type": "display_data",
          "data": {
            "image/png": "[encoded data removed]",
            "text/plain": [
              "<Figure size 432x288 with 1 Axes>"
            ]
          },
          "metadata": {
            "needs_background": "light"
          }
        }
      ]
    },
    {
      "cell_type": "markdown",
      "source": [
        "matplotlib.pyplot을 쓰는 대신 \n",
        "바로 pyplot을 불러온다"
      ],
      "metadata": {
        "id": "p2ZgZ75zdHVF"
      }
    },
    {
      "cell_type": "code",
      "metadata": {
        "colab": {
          "base_uri": "https://localhost:8080/",
          "height": 350
        },
        "id": "ORo259i7_Uqi",
        "outputId": "8faa9ebd-66ff-4f86-e588-f114023e649d"
      },
      "source": [
        "from matplotlib.pyplot import hist\n",
        "hist(n)"
      ],
      "execution_count": null,
      "outputs": [
        {
          "output_type": "execute_result",
          "data": {
            "text/plain": [
              "(array([ 3.,  4.,  9., 11., 26., 19., 16., 10.,  1.,  1.]),\n",
              " array([-2.51307585, -1.99199295, -1.47091005, -0.94982715, -0.42874425,\n",
              "         0.09233865,  0.61342155,  1.13450445,  1.65558734,  2.17667024,\n",
              "         2.69775314]),\n",
              " <a list of 10 Patch objects>)"
            ]
          },
          "metadata": {},
          "execution_count": 14
        },
        {
          "output_type": "display_data",
          "data": {
            "image/png": "[encoded data removed]",
            "text/plain": [
              "<Figure size 432x288 with 1 Axes>"
            ]
          },
          "metadata": {
            "needs_background": "light"
          }
        }
      ]
    }
  ]
}
