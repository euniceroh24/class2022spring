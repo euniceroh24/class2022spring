{
  "nbformat": 4,
  "nbformat_minor": 0,
  "metadata": {
    "colab": {
      "name": "Untitled9.ipynb",
      "provenance": [],
      "authorship_tag": "ABX9TyMCyAea2rZQt8+jggJ00eBY",
      "include_colab_link": true
    },
    "kernelspec": {
      "name": "python3",
      "display_name": "Python 3"
    },
    "language_info": {
      "name": "python"
    }
  },
  "cells": [
    {
      "cell_type": "markdown",
      "metadata": {
        "id": "view-in-github",
        "colab_type": "text"
      },
      "source": [
        "<a href=\"https://colab.research.google.com/github/euniceroh24/class2022spring/blob/main/gradio_practice_%EB%B3%B5%EC%8A%B5.ipynb\" target=\"_parent\"><img src=\"https://colab.research.google.com/assets/colab-badge.svg\" alt=\"Open In Colab\"/></a>"
      ]
    },
    {
      "cell_type": "code",
      "execution_count": 9,
      "metadata": {
        "id": "pR85rG8934K-"
      },
      "outputs": [],
      "source": [
        "def sum(a,b):\n",
        "  c=int(a+b)\n",
        "  return str(c)"
      ]
    },
    {
      "cell_type": "code",
      "source": [
        "sum(2.1,3)"
      ],
      "metadata": {
        "colab": {
          "base_uri": "https://localhost:8080/",
          "height": 35
        },
        "id": "QEKn-TW74ArW",
        "outputId": "92362d5e-e723-4f8b-f73e-03183945ac26"
      },
      "execution_count": 10,
      "outputs": [
        {
          "output_type": "execute_result",
          "data": {
            "text/plain": [
              "'5'"
            ],
            "application/vnd.google.colaboratory.intrinsic+json": {
              "type": "string"
            }
          },
          "metadata": {},
          "execution_count": 10
        }
      ]
    },
    {
      "cell_type": "code",
      "source": [
        "!pip install gradio"
      ],
      "metadata": {
        "id": "6PEq6IF_4Bwf"
      },
      "execution_count": null,
      "outputs": []
    },
    {
      "cell_type": "markdown",
      "source": [
        "gradio라는 package(=library, module)는 먼저 install하고 import"
      ],
      "metadata": {
        "id": "hAWHxUgx4DdU"
      }
    },
    {
      "cell_type": "code",
      "source": [
        "import gradio as gr"
      ],
      "metadata": {
        "id": "XrvV6BiZ4OA6"
      },
      "execution_count": 5,
      "outputs": []
    },
    {
      "cell_type": "code",
      "source": [
        "iface=gr.Interface(sum, inputs = [\"number\", \"number\"], outputs = [\"text\"])\n",
        "iface.launch()"
      ],
      "metadata": {
        "id": "VuUMGOpC4YE9"
      },
      "execution_count": null,
      "outputs": []
    },
    {
      "cell_type": "markdown",
      "source": [
        "인터페이스 만들기 <br/>\n",
        "Launches the webserver that serves the UI for the interface <br/>\n",
        "**input**에 number가 들어갈 수 있고, **output**에 text가 들어갈 수 있음\n"
      ],
      "metadata": {
        "id": "wiDMK-Yc6Gr4"
      }
    },
    {
      "cell_type": "code",
      "source": [
        "iface=gr.Interface(sum, [gr.inputs.Number(label='독립변수1'),gr.inputs.Number(label='독립변수2')], gr.outputs.Textbox(label='종속변수'))\n",
        "iface.launch()"
      ],
      "metadata": {
        "colab": {
          "base_uri": "https://localhost:8080/",
          "height": 647
        },
        "id": "n2e0mh3878UD",
        "outputId": "fb8edb59-309d-41c9-849e-922f0b43b1cf"
      },
      "execution_count": 15,
      "outputs": [
        {
          "output_type": "stream",
          "name": "stdout",
          "text": [
            "Colab notebook detected. To show errors in colab notebook, set `debug=True` in `launch()`\n",
            "Running on public URL: https://33396.gradio.app\n",
            "\n",
            "This share link expires in 72 hours. For free permanent hosting, check out Spaces (https://huggingface.co/spaces)\n"
          ]
        },
        {
          "output_type": "display_data",
          "data": {
            "text/plain": [
              "<IPython.lib.display.IFrame at 0x7f2d96c39d90>"
            ],
            "text/html": [
              "\n",
              "        <iframe\n",
              "            width=\"900\"\n",
              "            height=\"500\"\n",
              "            src=\"https://33396.gradio.app\"\n",
              "            frameborder=\"0\"\n",
              "            allowfullscreen\n",
              "        ></iframe>\n",
              "        "
            ]
          },
          "metadata": {}
        },
        {
          "output_type": "execute_result",
          "data": {
            "text/plain": [
              "(<fastapi.applications.FastAPI at 0x7f2da7d6db10>,\n",
              " 'http://127.0.0.1:7863/',\n",
              " 'https://33396.gradio.app')"
            ]
          },
          "metadata": {},
          "execution_count": 15
        }
      ]
    }
  ]
}